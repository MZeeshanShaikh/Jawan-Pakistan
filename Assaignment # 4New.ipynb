{
 "cells": [
  {
   "cell_type": "code",
   "execution_count": null,
   "metadata": {},
   "outputs": [],
   "source": [
    "while True:\n",
    " cont=input(\"Do you want  use Calculator Y for continue :\" )\n",
    " if cont==\"n\" or cont==\"N\":\n",
    "  break\n",
    " else: \n",
    "        #Calculator\n",
    "        Chose=input(\"Select Operartion \\n|-A for Addition\\n|-S for Subtraction\\n|-M For multipilication\\n|-D for Division\\n|-P for Power\\n : -\")\n",
    "        if Chose=='A' or Chose=='a' :\n",
    "        #Addtion\n",
    "         print('For Addition Enter Digit\\n')\n",
    "         x = int(input('Enter the Value 1st value :- '))\n",
    "         y = int(input('Enter the Value 2nd value :- '))\n",
    "         z = x + y\n",
    "         print(z)\n",
    "        elif Chose=='S' or Chose=='s' :\n",
    "        #Subtraction\n",
    "         print('For Subtraction Enter Digit')\n",
    "         x = int(input('Enter the Value 1st value :- '))\n",
    "         y = int(input('Enter the Value 2nd value :- '))\n",
    "         z=x-y\n",
    "         print(z)\n",
    "        elif Chose=='M' or Chose=='m' :\n",
    "        #Multiplication\n",
    "         print('For Multiplication Enter Digit')\n",
    "         x = int(input('Enter the Value 1st value :- '))\n",
    "         y = int(input('Enter the Value 2nd value :- '))\n",
    "         z=x*y\n",
    "         print(z)\n",
    "        elif Chose=='D' or Chose=='d' :\n",
    "        #Division\n",
    "         print('For Division Enter Digit')\n",
    "         x = int(input('Enter the Value 1st value :- '))\n",
    "         y = int(input('Enter the Value 2nd value :- '))\n",
    "         z=x*y\n",
    "         print(z)\n",
    "        elif Chose=='P' or Chose=='p' :\n",
    "        #Power\n",
    "         print('For Power Enter Digit')\n",
    "         x = int(input('Enter the Value 1st value :- '))\n",
    "         y = int(input('Enter the Value 2nd value :- '))\n",
    "         z=x**y\n",
    "         print(z)\n",
    "        else:\n",
    "            print('You chose Wrong Option')\n",
    "\n"
   ]
  },
  {
   "cell_type": "code",
   "execution_count": null,
   "metadata": {},
   "outputs": [],
   "source": [
    "# Prinitg Numeric Value\n",
    "mylist=['1','orange','2','3','4','apple']\n",
    "mynewlist = [s for s in mylist if s.isdigit()]\n",
    "print(mynewlist)"
   ]
  },
  {
   "cell_type": "code",
   "execution_count": null,
   "metadata": {},
   "outputs": [],
   "source": [
    "'''Add To Dicitonary'''\n",
    "d = {'a': 1, 'b': 2}\n",
    "print(d)\n",
    "d['c'] = \" \"  # new key, so add\n",
    "d['d'] = 4\n",
    "print(d)"
   ]
  },
  {
   "cell_type": "code",
   "execution_count": 20,
   "metadata": {},
   "outputs": [
    {
     "name": "stdout",
     "output_type": "stream",
     "text": [
      "Enter Digit To Check :2\n",
      "Value is already exsist\n"
     ]
    }
   ],
   "source": [
    "'''Cheking Value Of Key'''\n",
    "d={'a': 1, 'b':2 }\n",
    "x=(int(input(\"Enter Digit To Check :\")))\n",
    "if x  in d.values():\n",
    "    print('Value is already exsist')\n",
    "else :\n",
    "     print('Value is not in the list')"
   ]
  },
  {
   "cell_type": "code",
   "execution_count": 21,
   "metadata": {},
   "outputs": [
    {
     "name": "stdout",
     "output_type": "stream",
     "text": [
      "Enter Digit To Check :a\n",
      "Key is already exsist\n"
     ]
    }
   ],
   "source": [
    "'''Cheking Key '''\n",
    "d={'a': 1, 'b': 2}\n",
    "x=input(\"Enter Digit To Check :\")\n",
    "if x  in d.keys():\n",
    "    print('Key is already exsist')\n",
    "else :\n",
    "     print('Key is not in the list')"
   ]
  },
  {
   "cell_type": "code",
   "execution_count": 22,
   "metadata": {},
   "outputs": [
    {
     "data": {
      "text/plain": [
       "3"
      ]
     },
     "execution_count": 22,
     "metadata": {},
     "output_type": "execute_result"
    }
   ],
   "source": [
    "#Addning Values Of Dictiona\n",
    "d={'a': 1, 'b':2 }\n",
    "sum(d.values())"
   ]
  }
 ],
 "metadata": {
  "kernelspec": {
   "display_name": "Python 3",
   "language": "python",
   "name": "python3"
  },
  "language_info": {
   "codemirror_mode": {
    "name": "ipython",
    "version": 3
   },
   "file_extension": ".py",
   "mimetype": "text/x-python",
   "name": "python",
   "nbconvert_exporter": "python",
   "pygments_lexer": "ipython3",
   "version": "3.7.4"
  }
 },
 "nbformat": 4,
 "nbformat_minor": 2
}

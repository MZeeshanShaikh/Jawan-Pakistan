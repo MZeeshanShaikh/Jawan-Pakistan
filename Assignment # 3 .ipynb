{
 "cells": [
  {
   "cell_type": "code",
   "execution_count": 1,
   "metadata": {},
   "outputs": [
    {
     "name": "stdout",
     "output_type": "stream",
     "text": [
      "Twinkle, twinkle, little star,\n",
      "\tHow I wonder what you are! \n",
      "\t\tUp above the world so high, \n",
      "\t\tLike a diamond in the sky.\n",
      " Twinkle, twinkle, little star,\n",
      "\t How I wonder what you are\n"
     ]
    }
   ],
   "source": [
    "#Question 1\n",
    "print(\"Twinkle, twinkle, little star,\\n\\tHow I wonder what you are! \\n\\t\\tUp above the world so high, \\n\\t\\tLike a diamond in the sky.\\n Twinkle, twinkle, little star,\\n\\t How I wonder what you are\")"
   ]
  },
  {
   "cell_type": "code",
   "execution_count": 2,
   "metadata": {},
   "outputs": [
    {
     "name": "stdout",
     "output_type": "stream",
     "text": [
      "The Version of python is -   3.7.4\n"
     ]
    }
   ],
   "source": [
    "# Question 2\n",
    "import platform\n",
    "print('The Version of python is -  ',platform.python_version())\n"
   ]
  },
  {
   "cell_type": "code",
   "execution_count": 14,
   "metadata": {},
   "outputs": [
    {
     "name": "stdout",
     "output_type": "stream",
     "text": [
      "Current Date & Time Is :  2021-10-24 11:40:08.981676\n"
     ]
    }
   ],
   "source": [
    "# Question 3\n",
    "import datetime\n",
    "now = datetime.datetime.today()\n",
    "print('Current Date & Time Is : ',now)\n"
   ]
  },
  {
   "cell_type": "code",
   "execution_count": 3,
   "metadata": {},
   "outputs": [
    {
     "name": "stdout",
     "output_type": "stream",
     "text": [
      " Please Enter the radius of a circle: 2.5\n",
      " Area Of a Circle =  19.625\n"
     ]
    }
   ],
   "source": [
    "# Question 4\n",
    "pi = 3.14\n",
    "radius = float(input(' Please Enter the radius of a circle: '))\n",
    "area = pi  * (radius**2)\n",
    "\n",
    "print(\" Area Of a Circle = \" ,area)"
   ]
  },
  {
   "cell_type": "code",
   "execution_count": 5,
   "metadata": {},
   "outputs": [
    {
     "name": "stdout",
     "output_type": "stream",
     "text": [
      "Enter First Name : - Zeeshan\n",
      "Enter Last Name : - Shamsi\n",
      "i s m a h S n a h s e e Z\n"
     ]
    }
   ],
   "source": [
    "# Question 5\n",
    "#Asking Input From User\n",
    "first_Name=input('Enter First Name : - ')\n",
    "last_Name=input('Enter Last Name : - ')\n",
    "#Converting Strings Into Lists\n",
    "first_Name=list(first_Name)\n",
    "last_Name=list(last_Name)\n",
    "#Merging Lists\n",
    "first_Name.extend(last_Name)\n",
    "#Reversing\n",
    "first_Name.reverse()\n",
    "#Joining Lists Element\n",
    "first_Name = ' '.join(first_Name)\n",
    "\n",
    "#Printing\n",
    "print(first_Name)\n"
   ]
  },
  {
   "cell_type": "code",
   "execution_count": 6,
   "metadata": {},
   "outputs": [
    {
     "name": "stdout",
     "output_type": "stream",
     "text": [
      "Please Enter First Number : - 2\n",
      "Please Enter Second Number : - 3\n",
      "5\n"
     ]
    }
   ],
   "source": [
    "# Question 6\n",
    "x = int(input(\"Please Enter First Number : - \"))\n",
    "y = int(input(\"Please Enter Second Number : - \"))\n",
    "\n",
    "z=(x+y)\n",
    "print(z)"
   ]
  },
  {
   "cell_type": "code",
   "execution_count": null,
   "metadata": {},
   "outputs": [],
   "source": [
    "# Marksheet\n",
    "Sub1=(int(input(\"Enter Sub 1 Marks :-\")))\n",
    "Sub2=(int(input(\"Enter Sub 2 Marks :-\")))\n",
    "Sub3=(int(input(\"Enter Sub 3 Marks :-\")))\n",
    "Sub4=(int(input(\"Enter Sub 4 Marks:-\")))\n",
    "Sub5=(int(input(\"Enter Sub 5 Marks:-\")))\n",
    "\n",
    "total=(int(input(\"Enter Total Number :-\")))\n",
    "\n",
    "SubSum=int(Sub1+Sub2+Sub3+Sub4+Sub5)\n",
    "\n",
    "per=float(SubSum/total)*100\n",
    "\n",
    "if per >= 80 or per == 100 :\n",
    "    print('A+')\n",
    "elif per >= 70 and per < 80 :\n",
    "    print('A')\n",
    "elif per >= 60 and per < 70 :\n",
    "    print('B')\n",
    "elif per >=50 and per < 60 :\n",
    "    print('C')\n",
    "elif per >=40 and per < 50 :\n",
    "    print('D')\n",
    "elif per >= 33 and per < 40 :\n",
    "    print('E')\n",
    "elif per < 32 or per >= 0 :\n",
    "    print('F')"
   ]
  },
  {
   "cell_type": "code",
   "execution_count": 8,
   "metadata": {},
   "outputs": [
    {
     "name": "stdout",
     "output_type": "stream",
     "text": [
      "Please Enter the Number : -2\n",
      "Number is Evene\n"
     ]
    }
   ],
   "source": [
    "# Question 8\n",
    "# Even or Odd\n",
    "Numb=int(input(\"Please Enter the Number : -\"))\n",
    "\n",
    "if Numb % 2 == 0 :\n",
    "   print(\"Number is Evene\")\n",
    "else: \n",
    "   print(\"Number is Odd\")"
   ]
  },
  {
   "cell_type": "code",
   "execution_count": 9,
   "metadata": {},
   "outputs": [
    {
     "name": "stdout",
     "output_type": "stream",
     "text": [
      " Your List is\t5\tElement long .\n"
     ]
    }
   ],
   "source": [
    "# Question 9\n",
    "#Len Of List\n",
    "MyList=[2,'cat',3,5,9]\n",
    "print(' Your List is\\t' + str(len(MyList)) + '\\tElement long .')\n"
   ]
  },
  {
   "cell_type": "code",
   "execution_count": 10,
   "metadata": {},
   "outputs": [
    {
     "name": "stdout",
     "output_type": "stream",
     "text": [
      "90\n"
     ]
    }
   ],
   "source": [
    "# Question 10\n",
    "#Sum Of List\n",
    "MyList=[20,10,5,11,30,14]\n",
    "Add=sum(MyList)\n",
    "print(Add)"
   ]
  },
  {
   "cell_type": "code",
   "execution_count": 13,
   "metadata": {},
   "outputs": [
    {
     "name": "stdout",
     "output_type": "stream",
     "text": [
      "Largest Number In the List : 89\n"
     ]
    }
   ],
   "source": [
    "# Question 11\n",
    "a=[1,1,2,3,5,8,13,21,34,55,89]\n",
    "print(\"Largest Number In the List :\",max(a))\n"
   ]
  },
  {
   "cell_type": "code",
   "execution_count": 11,
   "metadata": {},
   "outputs": [
    {
     "name": "stdout",
     "output_type": "stream",
     "text": [
      "1\n",
      "1\n",
      "2\n",
      "3\n"
     ]
    }
   ],
   "source": [
    "# Question 12\n",
    "a=[1,1,2,3,5,8,13,21,34,55,89]\n",
    "x=len(a)\n",
    "for i in range(x):\n",
    "    if a[i]<5:\n",
    "        print(a[i])"
   ]
  }
 ],
 "metadata": {
  "kernelspec": {
   "display_name": "Python 3",
   "language": "python",
   "name": "python3"
  },
  "language_info": {
   "codemirror_mode": {
    "name": "ipython",
    "version": 3
   },
   "file_extension": ".py",
   "mimetype": "text/x-python",
   "name": "python",
   "nbconvert_exporter": "python",
   "pygments_lexer": "ipython3",
   "version": "3.7.4"
  }
 },
 "nbformat": 4,
 "nbformat_minor": 2
}
